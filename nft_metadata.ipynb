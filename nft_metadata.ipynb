{
 "cells": [
  {
   "cell_type": "code",
   "execution_count": 14,
   "id": "9009d6ff-017c-44f0-a640-0b5ea2154663",
   "metadata": {},
   "outputs": [],
   "source": [
    "import pandas as pd\n",
    "import matplotlib as plot"
   ]
  },
  {
   "cell_type": "code",
   "execution_count": 16,
   "id": "b7d912cd-ba49-47c1-a192-29d526d21d83",
   "metadata": {},
   "outputs": [],
   "source": [
    "df = pd.read_csv('export/bayc/metadata_0xBC4CA0EdA7647A8aB7C2061c2E118A18a936f13D.csv')"
   ]
  },
  {
   "cell_type": "code",
   "execution_count": 41,
   "id": "c263e49e-d68f-4917-9ad2-f58dd971bf28",
   "metadata": {},
   "outputs": [
    {
     "data": {
      "text/html": [
       "<div>\n",
       "<style scoped>\n",
       "    .dataframe tbody tr th:only-of-type {\n",
       "        vertical-align: middle;\n",
       "    }\n",
       "\n",
       "    .dataframe tbody tr th {\n",
       "        vertical-align: top;\n",
       "    }\n",
       "\n",
       "    .dataframe thead th {\n",
       "        text-align: right;\n",
       "    }\n",
       "</style>\n",
       "<table border=\"1\" class=\"dataframe\">\n",
       "  <thead>\n",
       "    <tr style=\"text-align: right;\">\n",
       "      <th></th>\n",
       "      <th>asset_id</th>\n",
       "      <th>attribute_count</th>\n",
       "      <th>attribute_count_rarity_score</th>\n",
       "      <th>Earring_attribute</th>\n",
       "      <th>Earring_rarity_score</th>\n",
       "      <th>Background_attribute</th>\n",
       "      <th>Background_rarity_score</th>\n",
       "      <th>Fur_attribute</th>\n",
       "      <th>Fur_rarity_score</th>\n",
       "      <th>Clothes_attribute</th>\n",
       "      <th>Clothes_rarity_score</th>\n",
       "      <th>Mouth_attribute</th>\n",
       "      <th>Mouth_rarity_score</th>\n",
       "      <th>Eyes_attribute</th>\n",
       "      <th>Eyes_rarity_score</th>\n",
       "      <th>Hat_attribute</th>\n",
       "      <th>Hat_rarity_score</th>\n",
       "      <th>overall_rarity_score</th>\n",
       "    </tr>\n",
       "  </thead>\n",
       "  <tbody>\n",
       "    <tr>\n",
       "      <th>8135</th>\n",
       "      <td>8135</td>\n",
       "      <td>7</td>\n",
       "      <td>5.310674</td>\n",
       "      <td>Silver Stud</td>\n",
       "      <td>12.150668</td>\n",
       "      <td>Army Green</td>\n",
       "      <td>8.045052</td>\n",
       "      <td>Black</td>\n",
       "      <td>8.136697</td>\n",
       "      <td>Hip Hop</td>\n",
       "      <td>78.125000</td>\n",
       "      <td>Bored Unshaven Dagger</td>\n",
       "      <td>357.142857</td>\n",
       "      <td>Hypnotized</td>\n",
       "      <td>45.454545</td>\n",
       "      <td>Trippy Captain's Hat</td>\n",
       "      <td>153.846154</td>\n",
       "      <td>668.211648</td>\n",
       "    </tr>\n",
       "    <tr>\n",
       "      <th>2794</th>\n",
       "      <td>2794</td>\n",
       "      <td>5</td>\n",
       "      <td>3.941663</td>\n",
       "      <td>NaN</td>\n",
       "      <td>1.424299</td>\n",
       "      <td>Aquamarine</td>\n",
       "      <td>7.886435</td>\n",
       "      <td>Robot</td>\n",
       "      <td>36.900369</td>\n",
       "      <td>Cowboy Shirt</td>\n",
       "      <td>84.033613</td>\n",
       "      <td>Bored Unshaven Pizza</td>\n",
       "      <td>384.615385</td>\n",
       "      <td>Cyborg</td>\n",
       "      <td>92.592593</td>\n",
       "      <td>NaN</td>\n",
       "      <td>4.440497</td>\n",
       "      <td>615.834854</td>\n",
       "    </tr>\n",
       "    <tr>\n",
       "      <th>7678</th>\n",
       "      <td>7678</td>\n",
       "      <td>6</td>\n",
       "      <td>1.879346</td>\n",
       "      <td>NaN</td>\n",
       "      <td>1.424299</td>\n",
       "      <td>Purple</td>\n",
       "      <td>7.733952</td>\n",
       "      <td>Cheetah</td>\n",
       "      <td>24.509804</td>\n",
       "      <td>Sailor Shirt</td>\n",
       "      <td>35.211268</td>\n",
       "      <td>Bored Unshaven Pizza</td>\n",
       "      <td>384.615385</td>\n",
       "      <td>Robot</td>\n",
       "      <td>28.571429</td>\n",
       "      <td>King's Crown</td>\n",
       "      <td>129.870130</td>\n",
       "      <td>613.815611</td>\n",
       "    </tr>\n",
       "    <tr>\n",
       "      <th>8976</th>\n",
       "      <td>8976</td>\n",
       "      <td>7</td>\n",
       "      <td>5.310674</td>\n",
       "      <td>Silver Stud</td>\n",
       "      <td>12.150668</td>\n",
       "      <td>Yellow</td>\n",
       "      <td>7.794232</td>\n",
       "      <td>White</td>\n",
       "      <td>25.188917</td>\n",
       "      <td>Tweed Suit</td>\n",
       "      <td>70.921986</td>\n",
       "      <td>Bored Unshaven Pizza</td>\n",
       "      <td>384.615385</td>\n",
       "      <td>X Eyes</td>\n",
       "      <td>40.816327</td>\n",
       "      <td>Safari</td>\n",
       "      <td>54.945055</td>\n",
       "      <td>601.743244</td>\n",
       "    </tr>\n",
       "    <tr>\n",
       "      <th>208</th>\n",
       "      <td>208</td>\n",
       "      <td>7</td>\n",
       "      <td>5.310674</td>\n",
       "      <td>Silver Stud</td>\n",
       "      <td>12.150668</td>\n",
       "      <td>Army Green</td>\n",
       "      <td>8.045052</td>\n",
       "      <td>Pink</td>\n",
       "      <td>19.569472</td>\n",
       "      <td>Prom Dress</td>\n",
       "      <td>97.087379</td>\n",
       "      <td>Bored Unshaven Pizza</td>\n",
       "      <td>384.615385</td>\n",
       "      <td>Coins</td>\n",
       "      <td>20.876827</td>\n",
       "      <td>Fez</td>\n",
       "      <td>26.525199</td>\n",
       "      <td>574.180656</td>\n",
       "    </tr>\n",
       "  </tbody>\n",
       "</table>\n",
       "</div>"
      ],
      "text/plain": [
       "      asset_id  attribute_count  attribute_count_rarity_score  \\\n",
       "8135      8135                7                      5.310674   \n",
       "2794      2794                5                      3.941663   \n",
       "7678      7678                6                      1.879346   \n",
       "8976      8976                7                      5.310674   \n",
       "208        208                7                      5.310674   \n",
       "\n",
       "     Earring_attribute  Earring_rarity_score Background_attribute  \\\n",
       "8135       Silver Stud             12.150668           Army Green   \n",
       "2794               NaN              1.424299           Aquamarine   \n",
       "7678               NaN              1.424299               Purple   \n",
       "8976       Silver Stud             12.150668               Yellow   \n",
       "208        Silver Stud             12.150668           Army Green   \n",
       "\n",
       "      Background_rarity_score Fur_attribute  Fur_rarity_score  \\\n",
       "8135                 8.045052         Black          8.136697   \n",
       "2794                 7.886435         Robot         36.900369   \n",
       "7678                 7.733952       Cheetah         24.509804   \n",
       "8976                 7.794232         White         25.188917   \n",
       "208                  8.045052          Pink         19.569472   \n",
       "\n",
       "     Clothes_attribute  Clothes_rarity_score        Mouth_attribute  \\\n",
       "8135           Hip Hop             78.125000  Bored Unshaven Dagger   \n",
       "2794      Cowboy Shirt             84.033613   Bored Unshaven Pizza   \n",
       "7678      Sailor Shirt             35.211268   Bored Unshaven Pizza   \n",
       "8976        Tweed Suit             70.921986   Bored Unshaven Pizza   \n",
       "208         Prom Dress             97.087379   Bored Unshaven Pizza   \n",
       "\n",
       "      Mouth_rarity_score Eyes_attribute  Eyes_rarity_score  \\\n",
       "8135          357.142857     Hypnotized          45.454545   \n",
       "2794          384.615385         Cyborg          92.592593   \n",
       "7678          384.615385          Robot          28.571429   \n",
       "8976          384.615385         X Eyes          40.816327   \n",
       "208           384.615385          Coins          20.876827   \n",
       "\n",
       "             Hat_attribute  Hat_rarity_score  overall_rarity_score  \n",
       "8135  Trippy Captain's Hat        153.846154            668.211648  \n",
       "2794                   NaN          4.440497            615.834854  \n",
       "7678          King's Crown        129.870130            613.815611  \n",
       "8976                Safari         54.945055            601.743244  \n",
       "208                    Fez         26.525199            574.180656  "
      ]
     },
     "execution_count": 41,
     "metadata": {},
     "output_type": "execute_result"
    }
   ],
   "source": [
    "df.sort_values('overall_rarity_score', ascending=False).head(5)"
   ]
  },
  {
   "cell_type": "markdown",
   "id": "dab69cac-2baf-4fae-90da-f1cf74c214a3",
   "metadata": {},
   "source": [
    "## Remove outliers"
   ]
  },
  {
   "cell_type": "code",
   "execution_count": 39,
   "id": "ff9631d9-247a-484f-a24b-f191c762e0b8",
   "metadata": {},
   "outputs": [
    {
     "data": {
      "text/html": [
       "<div>\n",
       "<style scoped>\n",
       "    .dataframe tbody tr th:only-of-type {\n",
       "        vertical-align: middle;\n",
       "    }\n",
       "\n",
       "    .dataframe tbody tr th {\n",
       "        vertical-align: top;\n",
       "    }\n",
       "\n",
       "    .dataframe thead th {\n",
       "        text-align: right;\n",
       "    }\n",
       "</style>\n",
       "<table border=\"1\" class=\"dataframe\">\n",
       "  <thead>\n",
       "    <tr style=\"text-align: right;\">\n",
       "      <th></th>\n",
       "      <th>asset_id</th>\n",
       "      <th>attribute_count</th>\n",
       "      <th>attribute_count_rarity_score</th>\n",
       "      <th>Earring_attribute</th>\n",
       "      <th>Earring_rarity_score</th>\n",
       "      <th>Background_attribute</th>\n",
       "      <th>Background_rarity_score</th>\n",
       "      <th>Fur_attribute</th>\n",
       "      <th>Fur_rarity_score</th>\n",
       "      <th>Clothes_attribute</th>\n",
       "      <th>Clothes_rarity_score</th>\n",
       "      <th>Mouth_attribute</th>\n",
       "      <th>Mouth_rarity_score</th>\n",
       "      <th>Eyes_attribute</th>\n",
       "      <th>Eyes_rarity_score</th>\n",
       "      <th>Hat_attribute</th>\n",
       "      <th>Hat_rarity_score</th>\n",
       "      <th>overall_rarity_score</th>\n",
       "    </tr>\n",
       "  </thead>\n",
       "  <tbody>\n",
       "    <tr>\n",
       "      <th>5</th>\n",
       "      <td>5</td>\n",
       "      <td>6</td>\n",
       "      <td>1.879346</td>\n",
       "      <td>NaN</td>\n",
       "      <td>1.424299</td>\n",
       "      <td>Army Green</td>\n",
       "      <td>8.045052</td>\n",
       "      <td>Brown</td>\n",
       "      <td>7.299270</td>\n",
       "      <td>Bayc T Red</td>\n",
       "      <td>71.428571</td>\n",
       "      <td>Dumbfounded</td>\n",
       "      <td>19.801980</td>\n",
       "      <td>X Eyes</td>\n",
       "      <td>40.816327</td>\n",
       "      <td>Bayc Flipped Brim</td>\n",
       "      <td>43.290043</td>\n",
       "      <td>193.984888</td>\n",
       "    </tr>\n",
       "    <tr>\n",
       "      <th>6</th>\n",
       "      <td>6</td>\n",
       "      <td>6</td>\n",
       "      <td>1.879346</td>\n",
       "      <td>NaN</td>\n",
       "      <td>1.424299</td>\n",
       "      <td>Yellow</td>\n",
       "      <td>7.794232</td>\n",
       "      <td>Cream</td>\n",
       "      <td>15.723270</td>\n",
       "      <td>Tweed Suit</td>\n",
       "      <td>70.921986</td>\n",
       "      <td>Bored</td>\n",
       "      <td>4.401408</td>\n",
       "      <td>Crazy</td>\n",
       "      <td>24.570025</td>\n",
       "      <td>S&amp;m Hat</td>\n",
       "      <td>42.553191</td>\n",
       "      <td>169.267758</td>\n",
       "    </tr>\n",
       "    <tr>\n",
       "      <th>7</th>\n",
       "      <td>7</td>\n",
       "      <td>6</td>\n",
       "      <td>1.879346</td>\n",
       "      <td>NaN</td>\n",
       "      <td>1.424299</td>\n",
       "      <td>Gray</td>\n",
       "      <td>8.547009</td>\n",
       "      <td>Golden Brown</td>\n",
       "      <td>12.820513</td>\n",
       "      <td>Wool Turtleneck</td>\n",
       "      <td>41.666667</td>\n",
       "      <td>Bored</td>\n",
       "      <td>4.401408</td>\n",
       "      <td>Angry</td>\n",
       "      <td>23.148148</td>\n",
       "      <td>Stuntman Helmet</td>\n",
       "      <td>63.694268</td>\n",
       "      <td>157.581657</td>\n",
       "    </tr>\n",
       "    <tr>\n",
       "      <th>8</th>\n",
       "      <td>8</td>\n",
       "      <td>6</td>\n",
       "      <td>1.879346</td>\n",
       "      <td>Gold Stud</td>\n",
       "      <td>22.779043</td>\n",
       "      <td>Aquamarine</td>\n",
       "      <td>7.886435</td>\n",
       "      <td>Zombie</td>\n",
       "      <td>33.112583</td>\n",
       "      <td>NaN</td>\n",
       "      <td>5.324814</td>\n",
       "      <td>Bored</td>\n",
       "      <td>4.401408</td>\n",
       "      <td>Robot</td>\n",
       "      <td>28.571429</td>\n",
       "      <td>Beanie</td>\n",
       "      <td>17.301038</td>\n",
       "      <td>121.256096</td>\n",
       "    </tr>\n",
       "    <tr>\n",
       "      <th>9</th>\n",
       "      <td>9</td>\n",
       "      <td>7</td>\n",
       "      <td>5.310674</td>\n",
       "      <td>Silver Stud</td>\n",
       "      <td>12.150668</td>\n",
       "      <td>Purple</td>\n",
       "      <td>7.733952</td>\n",
       "      <td>Brown</td>\n",
       "      <td>7.299270</td>\n",
       "      <td>Stunt Jacket</td>\n",
       "      <td>56.179775</td>\n",
       "      <td>Small Grin</td>\n",
       "      <td>36.764706</td>\n",
       "      <td>Sleepy</td>\n",
       "      <td>13.315579</td>\n",
       "      <td>Seaman's Hat</td>\n",
       "      <td>23.809524</td>\n",
       "      <td>162.564149</td>\n",
       "    </tr>\n",
       "  </tbody>\n",
       "</table>\n",
       "</div>"
      ],
      "text/plain": [
       "   asset_id  attribute_count  attribute_count_rarity_score Earring_attribute  \\\n",
       "5         5                6                      1.879346               NaN   \n",
       "6         6                6                      1.879346               NaN   \n",
       "7         7                6                      1.879346               NaN   \n",
       "8         8                6                      1.879346         Gold Stud   \n",
       "9         9                7                      5.310674       Silver Stud   \n",
       "\n",
       "   Earring_rarity_score Background_attribute  Background_rarity_score  \\\n",
       "5              1.424299           Army Green                 8.045052   \n",
       "6              1.424299               Yellow                 7.794232   \n",
       "7              1.424299                 Gray                 8.547009   \n",
       "8             22.779043           Aquamarine                 7.886435   \n",
       "9             12.150668               Purple                 7.733952   \n",
       "\n",
       "  Fur_attribute  Fur_rarity_score Clothes_attribute  Clothes_rarity_score  \\\n",
       "5         Brown          7.299270        Bayc T Red             71.428571   \n",
       "6         Cream         15.723270        Tweed Suit             70.921986   \n",
       "7  Golden Brown         12.820513   Wool Turtleneck             41.666667   \n",
       "8        Zombie         33.112583               NaN              5.324814   \n",
       "9         Brown          7.299270      Stunt Jacket             56.179775   \n",
       "\n",
       "  Mouth_attribute  Mouth_rarity_score Eyes_attribute  Eyes_rarity_score  \\\n",
       "5     Dumbfounded           19.801980         X Eyes          40.816327   \n",
       "6           Bored            4.401408          Crazy          24.570025   \n",
       "7           Bored            4.401408          Angry          23.148148   \n",
       "8           Bored            4.401408          Robot          28.571429   \n",
       "9      Small Grin           36.764706         Sleepy          13.315579   \n",
       "\n",
       "       Hat_attribute  Hat_rarity_score  overall_rarity_score  \n",
       "5  Bayc Flipped Brim         43.290043            193.984888  \n",
       "6            S&m Hat         42.553191            169.267758  \n",
       "7    Stuntman Helmet         63.694268            157.581657  \n",
       "8             Beanie         17.301038            121.256096  \n",
       "9       Seaman's Hat         23.809524            162.564149  "
      ]
     },
     "execution_count": 39,
     "metadata": {},
     "output_type": "execute_result"
    }
   ],
   "source": [
    "df = df.iloc[5:]\n",
    "df.head()"
   ]
  },
  {
   "cell_type": "markdown",
   "id": "814e1632-d1c0-4f75-bcb5-945366ba5752",
   "metadata": {},
   "source": [
    "## Total rarity curve"
   ]
  },
  {
   "cell_type": "code",
   "execution_count": null,
   "id": "5690a3b7-5c13-4eb0-8c7f-1ed58704d4da",
   "metadata": {},
   "outputs": [],
   "source": [
    "df.sort_values('overall_rarity_score').plot(y=\"overall_rarity_score\", figsize=(20,10), title=\"Total rarity curve\", ylabel=\"Rarity score\")"
   ]
  },
  {
   "cell_type": "code",
   "execution_count": 57,
   "id": "5833f0c9-d981-4354-aba4-0cbf1f738b88",
   "metadata": {},
   "outputs": [
    {
     "data": {
      "text/plain": [
       "<AxesSubplot:title={'center':'Total rarity curve'}, ylabel='Rarity score'>"
      ]
     },
     "execution_count": 57,
     "metadata": {},
     "output_type": "execute_result"
    },
    {
     "data": {
      "image/png": "[encoded data removed]",
      "text/plain": [
       "<Figure size 1080x504 with 1 Axes>"
      ]
     },
     "metadata": {
      "needs_background": "light"
     },
     "output_type": "display_data"
    }
   ],
   "source": [
    "df['overall_rarity_score'].sort_values(ignore_index=True).plot(figsize=(15,7), title=\"Total rarity curve\", ylabel=\"Rarity score\")"
   ]
  },
  {
   "cell_type": "code",
   "execution_count": null,
   "id": "5fb599b5-066e-411e-86c7-1c7167537622",
   "metadata": {},
   "outputs": [],
   "source": [
    "df.plot.hist(column=['overall_rarity_score'], bins=30, log=True)"
   ]
  },
  {
   "cell_type": "markdown",
   "id": "41a3ec82-ff81-4410-a0a1-8b9104152b33",
   "metadata": {},
   "source": [
    "## Trait rarities"
   ]
  },
  {
   "cell_type": "code",
   "execution_count": 72,
   "id": "50276625-526d-4b79-9d11-d224e6966839",
   "metadata": {},
   "outputs": [
    {
     "data": {
      "text/plain": [
       "Index(['Earring_attribute', 'Background_attribute', 'Fur_attribute',\n",
       "       'Clothes_attribute', 'Mouth_attribute', 'Eyes_attribute',\n",
       "       'Hat_attribute'],\n",
       "      dtype='object')"
      ]
     },
     "execution_count": 72,
     "metadata": {},
     "output_type": "execute_result"
    }
   ],
   "source": [
    "columns = df.loc[:, df.columns.str.endswith('_attribute')].columns\n",
    "columns"
   ]
  },
  {
   "cell_type": "code",
   "execution_count": 101,
   "id": "4344eb7c-2b38-4650-a383-636b29795464",
   "metadata": {},
   "outputs": [],
   "source": [
    "# iterater over rows and select traits and their scores\n",
    "# store in a dictionary of all values\n",
    "traits = {}\n",
    "for col in columns:\n",
    "    traitType = col.split('_')[0]\n",
    "    ddf = df.loc[:, [traitType+'_attribute', traitType+'_rarity_score']].drop_duplicates(subset=traitType+'_attribute').dropna()\n",
    "    traits.update(ddf.set_index(col)[traitType+'_rarity_score'].to_dict())"
   ]
  },
  {
   "cell_type": "code",
   "execution_count": 115,
   "id": "67094723-7df5-4fb9-a9e2-26f8028f2db3",
   "metadata": {},
   "outputs": [
    {
     "data": {
      "text/plain": [
       "<AxesSubplot:>"
      ]
     },
     "execution_count": 115,
     "metadata": {},
     "output_type": "execute_result"
    },
    {
     "data": {
      "image/png": "[encoded data removed]",
      "text/plain": [
       "<Figure size 432x288 with 1 Axes>"
      ]
     },
     "metadata": {
      "needs_background": "light"
     },
     "output_type": "display_data"
    }
   ],
   "source": [
    "pd.Series(traits).hist(bins=30)"
   ]
  }
 ],
 "metadata": {
  "kernelspec": {
   "display_name": "Python 3 (ipykernel)",
   "language": "python",
   "name": "python3"
  },
  "language_info": {
   "codemirror_mode": {
    "name": "ipython",
    "version": 3
   },
   "file_extension": ".py",
   "mimetype": "text/x-python",
   "name": "python",
   "nbconvert_exporter": "python",
   "pygments_lexer": "ipython3",
   "version": "3.8.12"
  }
 },
 "nbformat": 4,
 "nbformat_minor": 5
}
